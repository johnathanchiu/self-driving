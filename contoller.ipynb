{
  "nbformat": 4,
  "nbformat_minor": 0,
  "metadata": {
    "colab": {
      "name": "chance_constraints_sampled.ipynb",
      "provenance": [],
      "collapsed_sections": []
    },
    "kernelspec": {
      "name": "python3",
      "display_name": "Python 3"
    },
    "language_info": {
      "name": "python"
    }
  },
  "cells": [
    {
      "cell_type": "code",
      "source": [
        "from google.colab import drive\n",
        "drive.mount('/content/drive')"
      ],
      "metadata": {
        "colab": {
          "base_uri": "https://localhost:8080/"
        },
        "id": "aouz6diTyyKZ",
        "outputId": "4ccc1027-a3d2-4d35-b360-cacbca1ff35f"
      },
      "execution_count": null,
      "outputs": [
        {
          "output_type": "stream",
          "name": "stdout",
          "text": [
            "Mounted at /content/drive\n"
          ]
        }
      ]
    },
    {
      "cell_type": "code",
      "metadata": {
        "id": "xOFsinuKKXkg"
      },
      "source": [
        "import math\n",
        "import numpy as np\n",
        "\n",
        "import torch.nn.functional as F\n",
        "import torch.nn as nn\n",
        "import torch\n",
        "\n",
        "import matplotlib.pyplot as plt\n",
        "import matplotlib.cm as cm"
      ],
      "execution_count": null,
      "outputs": []
    },
    {
      "cell_type": "markdown",
      "source": [
        "Notes\n",
        "\n",
        "1. Rather than modeling rotation on wind, consider it as a negative displacement (i.e., if the wind is +x m/s @ +y°, just use displacement)"
      ],
      "metadata": {
        "id": "ADwozisaja7A"
      }
    },
    {
      "cell_type": "code",
      "source": [
        "### function to plot trajectory ###\n",
        "\n",
        "def rotate(x, y, angle):\n",
        "    return [x * np.cos(np.radians(angle)) - y * np.sin(np.radians(angle)), \n",
        "            x * np.sin(np.radians(angle)) + y * np.cos(np.radians(angle))]\n",
        "\n",
        "def plot_trajectory(states, angle=0, runway_length=(-1000, 1000), runway_boundaries=(-10, 10), verbose=False):\n",
        "\n",
        "    center_line_x = np.zeros((runway_length[1] - runway_length[0],))\n",
        "    left_boundary_x = np.ones((runway_length[1] - runway_length[0],)) * runway_boundaries[0]\n",
        "    right_boundary_x = np.ones((runway_length[1] - runway_length[0])) * runway_boundaries[1]\n",
        "\n",
        "    center_line_y = np.linspace(runway_length[0], runway_length[1], runway_length[1] - runway_length[0])\n",
        "    left_boundary_y = np.linspace(runway_length[0], runway_length[1], runway_length[1] - runway_length[0])\n",
        "    right_boundary_y = np.linspace(runway_length[0], runway_length[1], runway_length[1] - runway_length[0])\n",
        "\n",
        "    plt.figure(figsize=(20, 3))\n",
        "    plt.plot(center_line_y, center_line_x, color='gold', linestyle='--')\n",
        "    plt.plot(left_boundary_y, left_boundary_x, color='black')\n",
        "    plt.plot(right_boundary_y, right_boundary_x, color='black')\n",
        "    \n",
        "    colors = cm.rainbow(np.linspace(0, 1, len(states)))\n",
        "    for i, state in enumerate(states):\n",
        "        x, y, vx, vy = state\n",
        "        x, y = rotate(x, y, angle)\n",
        "        heading = np.rad2deg(np.arctan2(vy, vx)) % 360\n",
        "        if verbose:\n",
        "            print(x, y, heading)\n",
        "        plt.plot(x, y, marker=(3, 0, heading - runway_heading + zero_heading + 90), markersize=5, color=colors[i])   "
      ],
      "metadata": {
        "id": "hEo-mC2XCHIZ"
      },
      "execution_count": null,
      "outputs": []
    },
    {
      "cell_type": "code",
      "source": [
        "from torch.utils.data import Dataset\n",
        "\n",
        "def buildDataset(n, seq_len):\n",
        "    dataset, initialStates = [], []\n",
        "\n",
        "    for _ in range(n):\n",
        "        x = np.random.normal(0, 10)\n",
        "        y = np.random.normal(0, 10)\n",
        "        vx = np.random.normal(0, 35)\n",
        "        vy = np.random.normal(0, 35)\n",
        "        # x, y = 7.1272, 21.8248\n",
        "        # vx, vy = -1.8361, 0\n",
        "        # x, y = 1.4933, 3.9145\n",
        "        # vx, vy = -10.1508, 1.6241\n",
        "\n",
        "        # x, y = 11.8078, -19.1247\n",
        "        # vx, vy = 23.8204, 15.7388\n",
        "\n",
        "        dataset.append([[x, y, vx, vy]] * seq_len)\n",
        "        initialStates.append([[x], [y], [vx], [vy]])\n",
        "    \n",
        "    dataset = np.array(dataset)\n",
        "    initialStates = np.array(initialStates)\n",
        "    return dataset, initialStates\n",
        "\n",
        "\n",
        "class ControlsDataset(Dataset):\n",
        "    def __init__(self, data):\n",
        "        self.data = data\n",
        "\n",
        "\n",
        "    def __len__(self):\n",
        "        return len(self.data[0])\n",
        "\n",
        "    def __getitem__(self, idx):\n",
        "        return self.data[0][idx], self.data[1][idx]\n",
        "\n",
        "# a, b = buildDataset(2, 5)"
      ],
      "metadata": {
        "id": "TAeTe1w128Ie"
      },
      "execution_count": null,
      "outputs": []
    },
    {
      "cell_type": "code",
      "metadata": {
        "id": "MtpaJldxtxiy"
      },
      "source": [
        "# MODEL\n",
        "\n",
        "# class SamplingNetwork(nn.Module):\n",
        "#     def __init__(self, states, samples):\n",
        "#         super(SamplingNetwork, self).__init__()\n",
        "#         self.network = nn.Sequential(\n",
        "#             nn.Linear(states),\n",
        "#             nn.BatchNorm1d(),\n",
        "#             nn.ReLU(),\n",
        "#             nn.Linear(states * 2),\n",
        "#             nn.BatchNorm1d(),\n",
        "#             nn.ReLU(),\n",
        "#             nn.Linear(states * samples),\n",
        "#             nn.BatchNorm1d(),\n",
        "#             nn.ReLU(),\n",
        "#             # ADD CONV1D FOR TEMPORAL???\n",
        "#         )\n",
        "\n",
        "#     def forward(self, x):\n",
        "#         # batch, parameters, value\n",
        "#         y = self.network(x)\n",
        "#         # batch, samples, parameters, value\n",
        "#         return y\n",
        "\n",
        "\n",
        "# Recurrent neural network (many-to-one)\n",
        "class RNN(nn.Module):\n",
        "    def __init__(self, input_size, hidden_size, output_size, num_layers, gpu=0):\n",
        "        super(RNN, self).__init__()\n",
        "        self.hidden_size = hidden_size\n",
        "        self.num_layers = num_layers\n",
        "        self.lstm = nn.LSTM(input_size, hidden_size, num_layers, batch_first=True)\n",
        "        self.fc1 = nn.Linear(hidden_size, output_size)\n",
        "        self.gpu = gpu\n",
        "    \n",
        "    def forward(self, x):\n",
        "        batch_size = x.size(0)\n",
        "\n",
        "        # Set initial hidden and cell states \n",
        "        if self.gpu:\n",
        "            h0 = torch.zeros(self.num_layers, x.size(0), self.hidden_size, dtype=torch.double).cuda()\n",
        "            c0 = torch.zeros(self.num_layers, x.size(0), self.hidden_size, dtype=torch.double).cuda()\n",
        "        else:\n",
        "            h0 = torch.zeros(self.num_layers, x.size(0), self.hidden_size, dtype=torch.double)\n",
        "            c0 = torch.zeros(self.num_layers, x.size(0), self.hidden_size, dtype=torch.double)\n",
        "            \n",
        "        # Forward propagate LSTM\n",
        "        out, _ = self.lstm(x, (h0, c0))  # out: tensor of shape (batch_size, seq_length, hidden_size)\n",
        "        \n",
        "        # Decode the hidden state of the last time step\n",
        "        out = self.fc1(out)\n",
        "        out = nn.Tanh()(out)\n",
        "\n",
        "        out = torch.unsqueeze(out, axis=-1)\n",
        "\n",
        "        return out\n",
        "\n",
        "\n",
        "# class ControllerNetwork(nn.Module):\n",
        "#     def __init__(self, samples,  states, controls):\n",
        "#         super(QTableOptimizer, self).__init__()\n",
        "#         self.controller = nn.Sequential(\n",
        "#             nn.Linear(),\n",
        "#             nn.BatchNorm1d(),\n",
        "#         )\n",
        "#         self.sampler = SamplingNetwork(states, samples)\n",
        "        \n",
        "    \n",
        "#     def forward(self, x):\n",
        "#         z = self.sampler(x)\n",
        "#         y = self.controller(z)\n",
        "#         return y"
      ],
      "execution_count": null,
      "outputs": []
    },
    {
      "cell_type": "code",
      "source": [
        "# Test the model that was trained\n",
        "\n",
        "# batch_size = 10\n",
        "# n_workers = 1\n",
        "\n",
        "# n_steps = 8\n",
        "\n",
        "# n_features = 4\n",
        "# n_layers = 7\n",
        "\n",
        "# hidden_dim = n_features\n",
        "# output_size = n_features\n",
        "\n",
        "# zero_heading = 270 # degrees(°)\n",
        "# runway_heading = 54.331\n",
        "\n",
        "# runway_rotation = -(runway_heading + zero_heading - 360)\n",
        "\n",
        "# best_path = '/content/drive/My Drive/Research/cc_best.pth'\n",
        "\n",
        "# model = RNN(n_features, hidden_dim, output_size, n_layers)\n",
        "# model = model.double()\n",
        "# model.load_state_dict(torch.load(best_path))\n",
        "\n",
        "# x, initial_states = buildDataset(1, n_steps)\n",
        "# x = torch.tensor(x, dtype=torch.double)\n",
        "\n",
        "# controls_output = model(x)\n",
        "# print_states = getUpdatedStates(initial_states, controls_output.detach().numpy())\n",
        "# plot_trajectory(print_states, runway_rotation, verbose=0)"
      ],
      "metadata": {
        "id": "sB-m67OPZOtm"
      },
      "execution_count": null,
      "outputs": []
    },
    {
      "cell_type": "code",
      "source": [
        "update_matrix = lambda t: torch.tensor(np.array([[1, 0, t, 0],\n",
        "                                                 [0, 1, 0, t],\n",
        "                                                 [0, 0, 1, 0],\n",
        "                                                 [0, 0, 0, 1]]),\n",
        "                                       dtype=torch.double)\n",
        "\n",
        "\n",
        "# state: [[x1, y1, vx1, vy1], [x2, y2, vx2, vy2], ...]\n",
        "# controls: [noise_x, noise_y, ax, ay]\n",
        "def stateUpdateEqn(state, controls, stateTransition, timeStep):\n",
        "    return torch.matmul(stateTransition, state) + timeStep * controls\n",
        "\n",
        "\n",
        "def rejectionDist(x, y, centerLine, gpu):\n",
        "    # see here: http://www.math.lsa.umich.edu/~glarose/classes/calcIII/web/13_5/\n",
        "    projection = (centerLine[0] * x + centerLine[1] * y) / torch.square(torch.norm(centerLine, p=2)) * centerLine\n",
        "    # projection = torch.matmul(centerLine, position) / torch.norm(centerLine, p=2) ** 2 * centerLine\n",
        "    # sign of x-value, # [0] is projection on x [1] is projection on y\n",
        "    # sign = math.copysign(1, x - projection[0]) \n",
        "    return torch.sqrt(torch.square(x - projection[0]) + torch.square(y - projection[1])) # * sign\n",
        "\n",
        "\n",
        "constraints = np.array([[0, 0, 0, 0],\n",
        "                        [0, 0, 0, 0],\n",
        "                        [0, 0, 7, 0],\n",
        "                        [0, 0, 0, 7]])\n",
        "\n",
        "\n",
        "class LossFn(nn.Module):\n",
        "\n",
        "    constraints = torch.tensor(constraints, dtype=torch.double)\n",
        "    \n",
        "    def __init__(self, \n",
        "                 desiredStates, \n",
        "                 centerLine, \n",
        "                 costWeights,\n",
        "                 timeStep=1,\n",
        "                 gpu=False):\n",
        "        super(LossFn, self).__init__()\n",
        "        self.centerLineWeight, self.velocityWeight, self.headingWeight = costWeights\n",
        "        self.desiredVelocity, self.desiredHeading = desiredStates\n",
        "        self.centerLine = centerLine\n",
        "        self.timeStep = timeStep\n",
        "        self.stateTransition = update_matrix(timeStep)\n",
        "        self.gpu = gpu\n",
        "        if gpu:\n",
        "            self.constraints = self.constraints.cuda()\n",
        "            self.stateTransition = self.stateTransition.cuda()\n",
        "        \n",
        "\n",
        "    def forward(self, initialState, controls, verbose=1):\n",
        "        totalBatchCost = 0\n",
        "        batchDim = initialState.size(0)\n",
        "        \n",
        "        for i in range(batchDim):\n",
        "            cost = 0\n",
        "            state = initialState[i,...]\n",
        "            for j in range(controls.size(1)):\n",
        "                state = stateUpdateEqn(state, torch.matmul(self.constraints, controls[i,j,...]), self.stateTransition, self.timeStep)\n",
        "\n",
        "                x, y, vx, vy = torch.squeeze(state)\n",
        "                velocity = torch.sqrt(torch.square(vx) + torch.square(vy))\n",
        "                heading = torch.remainder(torch.rad2deg(torch.atan2(vy, vx)), 360)\n",
        "                \n",
        "                if verbose:\n",
        "                    print(f\"state {j+1}:\")\n",
        "                    print(f\"x: {x}, y: {y}, velocity: {velocity}, heading: {heading}\")\n",
        "                    print(\"distance error:\", rejectionDist(x, y, self.centerLine, self.gpu))\n",
        "                    print(\"heading error:\", torch.abs(heading - self.desiredHeading))\n",
        "                    print(\"velocity error:\", torch.abs(velocity - self.desiredVelocity))\n",
        "\n",
        "                centerLineWeight = self.centerLineWeight * (j + 1)\n",
        "                velocityWeight = self.velocityWeight * (j + 1)\n",
        "                headingWeight = self.headingWeight * (j + 1)\n",
        "\n",
        "                cost += centerLineWeight * rejectionDist(x, y, self.centerLine, self.gpu)\n",
        "                cost += velocityWeight * torch.abs(velocity - self.desiredVelocity)\n",
        "                cost += headingWeight * torch.abs(heading - self.desiredHeading)\n",
        "\n",
        "            totalBatchCost += cost / controls.size(1)\n",
        "\n",
        "        return totalBatchCost / batchDim\n",
        "\n",
        "\n",
        "# state: [[x1, y1, vx1, vy1], [x2, y2, vx2, vy2], ...]\n",
        "# controls: [noise_x, noise_y, ax, ay]\n",
        "def stateUpdateEqnNumpy(state, controls, timeStep):\n",
        "    update_matrix = lambda t: np.array([[1, 0, t, 0],\n",
        "                                        [0, 1, 0, t],\n",
        "                                        [0, 0, 1, 0],\n",
        "                                        [0, 0, 0, 1]])\n",
        "    stateTransition = update_matrix(timeStep)\n",
        "    return stateTransition@state + timeStep * controls\n",
        "\n",
        "def getHeading(control):\n",
        "    _, _, ax, ay = control\n",
        "    return math.degrees(np.arctan(ay / ax)) % 360\n",
        "\n",
        "def getUpdatedStates(initialState, controls, timeStep=1):\n",
        "    state = initialState[0]\n",
        "    states = [state]\n",
        "    for control in controls[0]:\n",
        "        state = stateUpdateEqnNumpy(state, constraints @ control, timeStep)\n",
        "        states.append(state)\n",
        "    return states\n",
        "\n",
        "# for testing purposes only\n",
        "def generateRandomControls(n):\n",
        "    controls = []\n",
        "    batch_control = []\n",
        "    for _ in range(n):\n",
        "        ax = 1 / 10\n",
        "        ay = -.715930 / 10\n",
        "        batch_control.append([[0], [0], [ax], [ay]])\n",
        "    controls.append(batch_control)\n",
        "    return np.array(controls)"
      ],
      "metadata": {
        "id": "8fKl9_EemEjG"
      },
      "execution_count": null,
      "outputs": []
    },
    {
      "cell_type": "code",
      "source": [
        "from torch.utils.data import DataLoader\n",
        "\n",
        "n_steps = 10\n",
        "\n",
        "n_features = 4\n",
        "n_layers = 3\n",
        "\n",
        "hidden_dim = n_features\n",
        "output_size = n_features\n",
        "\n",
        "zero_heading = 270 # degrees(°)\n",
        "runway_heading = 54.331\n",
        "desired_states = (50, runway_heading + zero_heading) # m/s, degrees(°)\n",
        "center_line = torch.tensor([2421, -1737], dtype=torch.double)\n",
        "cost_fn_weights = [9, 2, 8] # centerLineWeight, velocityWeight, headingWeight\n",
        "\n",
        "\n",
        "runway_rotation = -(runway_heading + zero_heading - 360)\n",
        "# runway_rotation = -np.degrees(np.arctan(-1737 / 2421))\n",
        "\n",
        "model = RNN(n_features, hidden_dim, output_size, n_layers)\n",
        "model = model.double()\n",
        "\n",
        "pytorch_total_params = sum(p.numel() for p in model.parameters() if p.requires_grad)\n",
        "print(f'Number of trainable params in model: {pytorch_total_params}')\n",
        "\n",
        "optimizer = torch.optim.Adam(model.parameters(), lr=1e-2)\n",
        "loss_fn = LossFn(desired_states, center_line, cost_fn_weights)\n",
        "\n",
        "x, initial_states = buildDataset(1, n_steps)\n",
        "x = torch.tensor(x, dtype=torch.double)\n",
        "initial_states = torch.tensor(initial_states, dtype=torch.double)\n",
        "\n",
        "print(\"inital heading\", getHeading(np.squeeze(initial_states)))\n",
        "\n",
        "# # for testing only\n",
        "# test_trajectory = getUpdatedStates(initial_states.detach().numpy(), generateRandomControls(6))\n",
        "\n",
        "plot_trajectory(x.detach().numpy()[0], runway_rotation)\n",
        "\n",
        "epochs = 1001\n",
        "display = 200\n",
        "\n",
        "for epoch in range(epochs + 1):\n",
        "    model.train()\n",
        "\n",
        "    controls_output = model(x)\n",
        "    loss = loss_fn(initial_states, controls_output, verbose=0) # epoch % display == 0)\n",
        "\n",
        "    if epoch % display == 0:\n",
        "        print_states = getUpdatedStates(initial_states.detach().numpy(), controls_output.detach().numpy())\n",
        "        plot_trajectory(print_states, runway_rotation, verbose=0)\n",
        "        print(f'loss = {loss}')\n",
        "        print('\\n')\n",
        "\n",
        "    model.zero_grad()\n",
        "    loss.backward()\n",
        "    optimizer.step()"
      ],
      "metadata": {
        "id": "7n6d49ma6K2i",
        "colab": {
          "base_uri": "https://localhost:8080/",
          "height": 1000
        },
        "outputId": "1b96e3c0-ec10-4798-ec45-ec19c8bbbf94"
      },
      "execution_count": null,
      "outputs": [
        {
          "output_type": "stream",
          "name": "stdout",
          "text": [
            "Number of trainable params in model: 500\n",
            "inital heading 329.22354728320136\n",
            "loss = 9416.136855430042\n",
            "\n",
            "\n",
            "\n",
            "loss = 3377.2509344567175\n",
            "\n",
            "\n",
            "\n",
            "loss = 3337.88757049298\n",
            "\n",
            "\n",
            "\n",
            "loss = 3325.9788774979124\n",
            "\n",
            "\n",
            "\n",
            "loss = 3321.843209384181\n",
            "\n",
            "\n",
            "\n",
            "loss = 3316.754587749076\n",
            "\n",
            "\n",
            "\n"
          ]
        },
        {
          "output_type": "display_data",
          "data": {
            "image/png": "[encoded data removed]",
            "text/plain": [
              "<Figure size 1440x216 with 1 Axes>"
            ]
          },
          "metadata": {
            "needs_background": "light"
          }
        },
        {
          "output_type": "display_data",
          "data": {
            "image/png": "[encoded data removed]",
            "text/plain": [
              "<Figure size 1440x216 with 1 Axes>"
            ]
          },
          "metadata": {
            "needs_background": "light"
          }
        },
        {
          "output_type": "display_data",
          "data": {
            "image/png": "[encoded data removed]",
            "text/plain": [
              "<Figure size 1440x216 with 1 Axes>"
            ]
          },
          "metadata": {
            "needs_background": "light"
          }
        },
        {
          "output_type": "display_data",
          "data": {
            "image/png": "[encoded data removed]",
            "text/plain": [
              "<Figure size 1440x216 with 1 Axes>"
            ]
          },
          "metadata": {
            "needs_background": "light"
          }
        },
        {
          "output_type": "display_data",
          "data": {
            "image/png": "[encoded data removed]",
            "text/plain": [
              "<Figure size 1440x216 with 1 Axes>"
            ]
          },
          "metadata": {
            "needs_background": "light"
          }
        },
        {
          "output_type": "display_data",
          "data": {
            "image/png": "[encoded data removed]",
            "text/plain": [
              "<Figure size 1440x216 with 1 Axes>"
            ]
          },
          "metadata": {
            "needs_background": "light"
          }
        },
        {
          "output_type": "display_data",
          "data": {
            "image/png": "[encoded data removed]",
            "text/plain": [
              "<Figure size 1440x216 with 1 Axes>"
            ]
          },
          "metadata": {
            "needs_background": "light"
          }
        }
      ]
    },
    {
      "cell_type": "code",
      "source": [
        "# from torch.utils.data import DataLoader\n",
        "\n",
        "# batch_size = 10\n",
        "# n_workers = 1\n",
        "\n",
        "# n_steps = 8\n",
        "\n",
        "# train_dataset = ControlsDataset(buildDataset(100000, n_steps))\n",
        "# val_dataset = ControlsDataset(buildDataset(20000, n_steps))\n",
        "# # train_dataset = ControlsDataset(buildDataset(5, n_steps))\n",
        "# # val_dataset = ControlsDataset(buildDataset(2, n_steps))\n",
        "# validation_set = DataLoader(val_dataset,\n",
        "#                             batch_size=batch_size,\n",
        "#                             shuffle=True,\n",
        "#                             num_workers=n_workers,\n",
        "#                            )\n",
        "# training_set = DataLoader(train_dataset,\n",
        "#                           batch_size=batch_size,\n",
        "#                           shuffle=True,\n",
        "#                           num_workers=n_workers,\n",
        "#                          )\n",
        "# dataset = { 'validation': validation_set, 'train': training_set }"
      ],
      "metadata": {
        "id": "JTDM7XzIrv0W"
      },
      "execution_count": null,
      "outputs": []
    },
    {
      "cell_type": "code",
      "source": [
        "# n_features = 4\n",
        "# n_layers = 7\n",
        "\n",
        "# best_path = '/content/drive/My Drive/Research/cc_best.pth'\n",
        "# chkpt_path = '/content/drive/My Drive/Research/cc_chkpt.pth'\n",
        "\n",
        "# hidden_dim = n_features\n",
        "# output_size = n_features\n",
        "\n",
        "# learning_rate = 1e-2\n",
        "\n",
        "# log_batch = 1000\n",
        "\n",
        "# zero_heading = 270 # degrees(°)\n",
        "# runway_heading = 54.331\n",
        "# desired_states = (50, runway_heading + zero_heading) # m/s, degrees(°)\n",
        "# center_line = torch.tensor([2421, -1737], dtype=torch.double)\n",
        "# cost_fn_weights = [13, 2, 6] # centerLineWeight, velocityWeight, headingWeight\n",
        "\n",
        "# gpu_exists = torch.cuda.device_count() > 0\n",
        "# print(f'GPU: {int(gpu_exists)}')\n",
        "\n",
        "# model = RNN(n_features, hidden_dim, output_size, n_layers, gpu=gpu_exists)\n",
        "# model = model.double()\n",
        "# model.load_state_dict(torch.load(chkpt_path))\n",
        "\n",
        "# pytorch_total_params = sum(p.numel() for p in model.parameters() if p.requires_grad)\n",
        "# print(f'Number of trainable params in model: {pytorch_total_params}')\n",
        "\n",
        "# if gpu_exists:\n",
        "#     model = model.cuda()\n",
        "#     center_line = center_line.cuda()\n",
        "\n",
        "# optimizer = torch.optim.Adam(model.parameters(), lr=learning_rate)\n",
        "# loss_fn = LossFn(desired_states, center_line, cost_fn_weights, gpu=gpu_exists)\n",
        "\n",
        "# best_loss = 1e20\n",
        "# epochs = 100\n",
        "# for epoch in range(epochs):\n",
        "#     for phase in ['train', 'validation']:\n",
        "#         cumu_loss = 0\n",
        "#         total_loss = 0\n",
        "#         break_line = '-' * 20\n",
        "#         print(f'{break_line}\\n{phase} at epoch no. {epoch + 1}\\n{break_line}')\n",
        "#         for i, sample in enumerate(dataset[phase]):\n",
        "#             x, initial_states = sample\n",
        "\n",
        "#             if gpu_exists:\n",
        "#                 x = x.cuda()\n",
        "#                 initial_states = initial_states.cuda()\n",
        "\n",
        "#             if phase == 'train':\n",
        "#                 model.train()\n",
        "#             else:\n",
        "#                 model.eval()\n",
        "\n",
        "#             controls_output = model(x)\n",
        "#             loss = loss_fn(initial_states, controls_output, verbose=0)\n",
        "\n",
        "#             cumu_loss += loss\n",
        "#             total_loss += loss\n",
        "#             if phase == 'train':\n",
        "#                 model.zero_grad()\n",
        "#                 loss.backward()\n",
        "#                 optimizer.step()\n",
        "\n",
        "#             if i != 0 and i % log_batch == 0:                \n",
        "#                 print(f'batch {i}: loss = {cumu_loss / log_batch}')\n",
        "#                 if gpu_exists:\n",
        "#                     save_model = model.module if torch.cuda.device_count() > 1 else model\n",
        "#                 else:\n",
        "#                     save_model = model\n",
        "#                 torch.save(save_model.state_dict(), chkpt_path)\n",
        "#                 cumu_loss = 0\n",
        "\n",
        "#         if phase == 'validation':\n",
        "#             if total_loss / len(dataset['validation']) < best_loss:\n",
        "#                 best_loss = total_loss / len(dataset['validation'])\n",
        "#                 print(f'Loss improved! ({best_loss}) Saving model...')\n",
        "#                 if gpu_exists:\n",
        "#                     save_model = model.module if torch.cuda.device_count() > 1 else model\n",
        "#                 else:\n",
        "#                     save_model = model\n",
        "#                 torch.save(save_model.state_dict(), best_path)\n",
        "\n",
        "#         if gpu_exists:\n",
        "#             save_model = model.module if torch.cuda.device_count() > 1 else model\n",
        "#         else:\n",
        "#             save_model = model\n",
        "#         torch.save(save_model.state_dict(), chkpt_path)"
      ],
      "metadata": {
        "id": "gMlVOA5x1MVF"
      },
      "execution_count": null,
      "outputs": []
    },
    {
      "cell_type": "code",
      "source": [
        ""
      ],
      "metadata": {
        "id": "wd3T0_eUqvMt"
      },
      "execution_count": null,
      "outputs": []
    }
  ]
}