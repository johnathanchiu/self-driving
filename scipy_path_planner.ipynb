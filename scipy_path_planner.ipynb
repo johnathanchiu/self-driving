{
  "nbformat": 4,
  "nbformat_minor": 0,
  "metadata": {
    "colab": {
      "name": "spicy-path-planner.ipynb",
      "provenance": [],
      "collapsed_sections": []
    },
    "kernelspec": {
      "name": "python3",
      "display_name": "Python 3"
    },
    "language_info": {
      "name": "python"
    }
  },
  "cells": [
    {
      "cell_type": "code",
      "source": [
        "import matplotlib.pyplot as plt\n",
        "import matplotlib.cm as cm\n",
        "\n",
        "import scipy.optimize as opt\n",
        "import numpy as np\n",
        "import math"
      ],
      "metadata": {
        "id": "cQxD5nR1nUSv"
      },
      "execution_count": 9,
      "outputs": []
    },
    {
      "cell_type": "code",
      "source": [
        "def generate_road(road_fn, n_samples, domain, eps=0):\n",
        "    start_x, end_x = domain\n",
        "    x = np.linspace(start_x, end_x, n_samples)\n",
        "    return [(i - eps, road_fn(i)) for i in x]\n",
        "\n",
        "road1_formula = lambda x: 2 * x + 0\n",
        "road1 = generate_road(road1_formula, 500, (-30, 60))\n",
        "\n",
        "road2_formula = lambda x: 10 * math.log(x + 30) - 30\n",
        "road2 = generate_road(road2_formula, 500, (-20, 300), eps=.5)\n",
        "\n",
        "road3_formula = lambda x: math.exp(x / 20) + 4\n",
        "road3 = generate_road(road3_formula, 500, (-50, 100), eps=.5)\n",
        "\n",
        "# plt.figure(figsize=(20, 5))\n",
        "# plt.plot(*zip(*road3), color='gold', linestyle='--')"
      ],
      "metadata": {
        "id": "g2WVBQwDnZiL"
      },
      "execution_count": 10,
      "outputs": []
    },
    {
      "cell_type": "code",
      "execution_count": 23,
      "metadata": {
        "id": "HuxEYMMlkVPU",
        "colab": {
          "base_uri": "https://localhost:8080/"
        },
        "outputId": "967d29da-023c-4531-dd67-a75aef7d4cf6"
      },
      "outputs": [
        {
          "output_type": "execute_result",
          "data": {
            "text/plain": [
              "     fun: 10164.669031767447\n",
              "     jac: array([4024.88699105,  -18.2214873 , 3605.49200403,  -19.75718307,\n",
              "       3432.04173801,  -14.64098658, 1805.22420814,  -12.47202818,\n",
              "       1902.31032952,  -18.0078501 , 1281.96521117,  -38.88400904,\n",
              "       1796.32064974,  -58.63796568,  806.31824693,  -70.35901912,\n",
              "       1552.35145949,  -66.26504101, 2361.09134314,  -45.53624659,\n",
              "       1324.54524525,  -22.88634746, 2939.40222814,  -17.93174692,\n",
              "       2294.87178236,   -5.79101359, -136.03585515,   65.1594887 ,\n",
              "         67.54481905,  -14.96767762])\n",
              " message: 'Optimization terminated successfully.'\n",
              "    nfev: 1762\n",
              "     nit: 48\n",
              "    njev: 48\n",
              "  status: 0\n",
              " success: True\n",
              "       x: array([ 1.09757208e+00,  8.27450267e+00,  3.23662712e+00,  1.06822553e+01,\n",
              "        2.35813895e+00, -1.64735961e+00,  3.02694548e+00, -3.34334385e+00,\n",
              "        2.51544691e-01, -1.11728430e+00, -3.90189372e-01,  8.73339565e+00,\n",
              "        3.86556566e-01,  4.76957674e+00, -9.84835638e-03,  8.00850462e+00,\n",
              "       -5.20152595e-02,  7.26429699e+00,  5.89454431e-02,  1.15793455e+01,\n",
              "       -6.05862530e-02,  8.72618604e+00,  5.61625698e-02,  1.74610232e+00,\n",
              "        3.53866626e-02,  4.72949076e+00, -5.03139223e-02,  3.01808006e+00,\n",
              "        6.23816357e-03,  2.23356768e+00])"
            ]
          },
          "metadata": {},
          "execution_count": 23
        }
      ],
      "source": [
        "timeStep = 1\n",
        "\n",
        "nSteps = 15\n",
        "accelerationConstraint = 5\n",
        "angularConstraint = 20\n",
        "\n",
        "desiredVelocity = 10\n",
        "\n",
        "costWeights = [6, 100, 4] # centerLineWeight, velocityWeight, headingWeight\n",
        "\n",
        "# state: [[x1, y1, v1, h1], [x2, y2, v2, h2], ...]\n",
        "# controls: [vx, vy, a, w]\n",
        "def stateUpdateEqn(state, controls, timeStep):\n",
        "    controls[0, 0] = state[2, 0] * np.cos(np.deg2rad(state[3, 0]))\n",
        "    controls[1, 0] = state[2, 0] * np.sin(np.deg2rad(state[3, 0]))\n",
        "    return state + timeStep * controls\n",
        "\n",
        "\n",
        "def computeHeadingError(realHeading, desiredHeading):\n",
        "    delta = desiredHeading - np.deg2rad(realHeading)\n",
        "    return np.rad2deg(np.arctan2(np.sin(delta), np.cos(delta)))\n",
        "\n",
        "\n",
        "def shortestDistanceToPolyline(pt, centerLinePts, discretization=5):\n",
        "\n",
        "    distance = float('inf')\n",
        "    tangentLine = None \n",
        "    for i in range(discretization, len(centerLinePts), discretization):\n",
        "        ptA, ptB = centerLinePts[i - discretization], centerLinePts[i]\n",
        "\n",
        "        centerLine = ptB - ptA\n",
        "        midPt = (ptA + ptB) / 2\n",
        "        projection = midPt\n",
        "        \n",
        "        # projection = (centerLine[0] * ptShift[0] + centerLine[1] * ptShift[1]) / torch.norm(centerLine, p=2)\n",
        "        # projection = projection * centerLine + ptA\n",
        "\n",
        "        rejection_dist = np.sqrt(np.square(pt[0] - projection[0]) + np.square(pt[1] - projection[1]))\n",
        "        if rejection_dist < distance:\n",
        "            tangentLine = centerLine\n",
        "            distance = rejection_dist\n",
        "\n",
        "    return distance, np.arctan2(tangentLine[1], tangentLine[0])\n",
        "\n",
        "\n",
        "def loss_fn(initState, centerLine, costWeights, desiredStates, timeStep=1):\n",
        "\n",
        "    centerLineWeight, velocityWeight, headingWeight = costWeights\n",
        "    desiredVelocity = desiredStates\n",
        "\n",
        "    def objective(params):\n",
        "        cost = 0\n",
        "        state = np.expand_dims(initState, axis=-1)\n",
        "        for i in range(0, len(params), 2):\n",
        "            control = np.expand_dims(np.concatenate(([0, 0], params[i:i+2])), axis=-1)\n",
        "            state = stateUpdateEqn(state, control, timeStep)\n",
        "\n",
        "            squeezeState = np.squeeze(state, axis=-1)\n",
        "            cartesian, polar = squeezeState[:2], squeezeState[2:]\n",
        "            x, y = cartesian\n",
        "            velocity, heading = polar\n",
        "\n",
        "            lateralError, roadHeading = shortestDistanceToPolyline(cartesian, centerLine)\n",
        "            headingError = computeHeadingError(heading, roadHeading)\n",
        "            velocityError = desiredVelocity - velocity\n",
        "            \n",
        "            # if verbose:\n",
        "            #     print(f\"state {j+1}:\")\n",
        "            #     print(f\"x: {x}, y: {y}, velocity: {velocity}, heading: {heading}\")\n",
        "            #     print(\"distance error:\", lateralError)\n",
        "            #     print(\"velocity error:\", velocityError)\n",
        "            #     print(\"heading error:\", headingError)\n",
        "\n",
        "            cost += centerLineWeight * np.abs(lateralError) * (i + 1)\n",
        "            cost += velocityWeight * np.abs(velocityError) * (i + 1)\n",
        "            cost += headingWeight * np.abs(headingError) * (i + 1)\n",
        "        \n",
        "        return cost\n",
        "\n",
        "    return objective\n",
        "\n",
        "\n",
        "def formulate_guess(nSteps):\n",
        "    return np.ones((nSteps * 2,))\n",
        "    \n",
        "    \n",
        "init_guess = formulate_guess(nSteps)\n",
        "bounds = [(-accelerationConstraint, accelerationConstraint), (-angularConstraint, angularConstraint)] * nSteps\n",
        "centerLine = np.array(road3)\n",
        "\n",
        "state0 = np.array([0, 0, 0, 0])\n",
        "\n",
        "obj = loss_fn(state0, centerLine, costWeights, desiredVelocity, timeStep=timeStep)\n",
        "\n",
        "result = opt.minimize(obj, init_guess, method='SLSQP', bounds=bounds, options={'eps': 1e-1, 'maxiter': 100})\n",
        "result"
      ]
    },
    {
      "cell_type": "code",
      "source": [
        "def plot_trajectory(states, road, verbose=False):\n",
        "\n",
        "    plt.figure(figsize=(20, 5))\n",
        "    plt.plot(*zip(*road), color='gold', linestyle='--')\n",
        "\n",
        "    road = np.array(road)\n",
        "\n",
        "    colors = cm.rainbow(np.linspace(0, 1, len(states)))\n",
        "    for i, state in enumerate(states):\n",
        "        x, y, velocity, heading = state\n",
        "        heading = heading % 360 \n",
        "        if verbose:\n",
        "            centerLineDist, _ = shortestDistanceToPolyline(np.array([x, y]), road)\n",
        "            print(f\"x: {x}, y: {y}, velocity: {velocity}, heading: {heading}\")\n",
        "            print(f\"centerline error: {centerLineDist}\")\n",
        "        plt.plot(x, y, marker=(3, 0, heading - 90), markersize=5, color=colors[i])\n",
        "    print('\\n' * 2)\n",
        "    plt.show()\n",
        "\n",
        "\n",
        "def getUpdatedStates(initialState, controls, timeStep=1):\n",
        "    states = [initialState]\n",
        "    state = np.expand_dims(initialState, axis=-1)\n",
        "    for i in range(0, len(controls), 2):\n",
        "        control = np.expand_dims(np.concatenate(([0, 0], controls[i:i+2])), axis=-1)\n",
        "        state = stateUpdateEqn(state, control, timeStep)\n",
        "        states.append(np.squeeze(state, axis=-1))\n",
        "    return states\n",
        "\n",
        "\n",
        "print_states = getUpdatedStates(state0, result.x, timeStep)\n",
        "plot_trajectory(print_states, road3, verbose=1)"
      ],
      "metadata": {
        "colab": {
          "base_uri": "https://localhost:8080/",
          "height": 930
        },
        "id": "mlO4Pw2RnNH8",
        "outputId": "cc11d442-bd9a-4ec7-8637-9bb68796573c"
      },
      "execution_count": 24,
      "outputs": [
        {
          "output_type": "stream",
          "name": "stdout",
          "text": [
            "x: 0, y: 0, velocity: 0, heading: 0\n",
            "centerline error: 5.020628570136862\n",
            "x: 0.0, y: 0.0, velocity: 1.0975720779956573, heading: 8.274502672059576\n",
            "centerline error: 5.020628570136862\n",
            "x: 1.0861462773421275, y: 0.15795800268281224, velocity: 4.334199196881321, heading: 18.956757964015008\n",
            "centerline error: 4.947173727513677\n",
            "x: 5.185275923547691, y: 1.565941959212622, velocity: 6.6923381506453925, heading: 17.309398351880542\n",
            "centerline error: 3.800751280708478\n",
            "x: 11.574531514942766, y: 3.557123244382449, velocity: 9.719283627510402, heading: 13.966054501096128\n",
            "centerline error: 2.3202745652719727\n",
            "x: 21.006502283337092, y: 5.902843103220387, velocity: 9.970828318905639, heading: 12.848770196865386\n",
            "centerline error: 1.0199019485211132\n",
            "x: 30.727665237570676, y: 8.12014059844453, velocity: 9.580638946894869, heading: 21.58216584915552\n",
            "centerline error: 0.9363782917261505\n",
            "x: 39.63661540811114, y: 11.644236154695225, velocity: 9.967195513297774, heading: 26.35174258864911\n",
            "centerline error: 0.801853866738673\n",
            "x: 48.56807913681984, y: 16.068480956134692, velocity: 9.957347156922717, heading: 34.36024721088601\n",
            "centerline error: 0.8866186310249329\n",
            "x: 56.787921823437536, y: 21.688351827492365, velocity: 9.90533189741639, heading: 41.62454419805917\n",
            "centerline error: 0.17797327795657875\n",
            "x: 64.19229223951214, y: 28.26793378530198, velocity: 9.9642773404784, heading: 53.20388973093529\n",
            "centerline error: 1.265230136321089\n",
            "x: 70.16058783134929, y: 36.24704843834643, velocity: 9.903691087494643, heading: 61.9300757669826\n",
            "centerline error: 1.172936779624406\n",
            "x: 74.82075748401836, y: 44.98580784485621, velocity: 9.95985365730283, heading: 63.67617809040932\n",
            "centerline error: 1.4191180463094073\n",
            "x: 79.23739368741923, y: 53.91284596069829, velocity: 9.995240319877594, heading: 68.40566884911573\n",
            "centerline error: 1.464210338188911\n",
            "x: 82.91596755737892, y: 63.20654938481058, velocity: 9.94492639761601, heading: 71.42374890669838\n",
            "centerline error: 1.922874147336667\n",
            "x: 86.08408730731044, y: 72.63335044901542, velocity: 9.951164561185772, heading: 73.65731659059418\n",
            "centerline error: 2.070162380123341\n",
            "\n",
            "\n",
            "\n"
          ]
        },
        {
          "output_type": "display_data",
          "data": {
            "text/plain": [
              "<Figure size 1440x360 with 1 Axes>"
            ],
            "image/png": "[encoded data removed]"
          },
          "metadata": {
            "needs_background": "light"
          }
        }
      ]
    },
    {
      "cell_type": "code",
      "source": [
        ""
      ],
      "metadata": {
        "id": "ZI9sxcMqngNQ"
      },
      "execution_count": null,
      "outputs": []
    }
  ]
}